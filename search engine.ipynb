{
 "cells": [
  {
   "cell_type": "code",
   "execution_count": 1,
   "id": "138fb323",
   "metadata": {},
   "outputs": [],
   "source": [
    "import numpy as np\n",
    "import torch\n",
    "import os\n",
    "import pandas as pd\n",
    "from sentence_transformers import SentenceTransformer\n"
   ]
  },
  {
   "cell_type": "markdown",
   "id": "190a1ce8",
   "metadata": {},
   "source": [
    "# Load a pre-trained model"
   ]
  },
  {
   "cell_type": "code",
   "execution_count": 2,
   "id": "c8994066",
   "metadata": {},
   "outputs": [],
   "source": [
    "model =SentenceTransformer('msmarco-MiniLM-L-12-v3')"
   ]
  },
  {
   "cell_type": "markdown",
   "id": "9be56214",
   "metadata": {},
   "source": [
    "# Define a list of hotel reviews"
   ]
  },
  {
   "cell_type": "code",
   "execution_count": 3,
   "id": "64587b98",
   "metadata": {},
   "outputs": [],
   "source": [
    "hotel_reviews = [\n",
    "    \"This hotel has a great location but the rooms are too small.\",\n",
    "    \"The staff at this hotel is very friendly and helpful.\",\n",
    "    \"The WiFi connection at this hotel is very slow and unreliable.\",\n",
    "    \"I had a great stay at this hotel. The room was clean and comfortable.\",\n",
    "    \"The food at this hotel is delicious but a bit overpriced.\"\n",
    "]"
   ]
  },
  {
   "cell_type": "markdown",
   "id": "50501d1b",
   "metadata": {},
   "source": [
    "# Embed hotel reviews"
   ]
  },
  {
   "cell_type": "code",
   "execution_count": 4,
   "id": "2c3356f5",
   "metadata": {},
   "outputs": [],
   "source": [
    "hotel_reviews_embds=model.encode(hotel_reviews)"
   ]
  },
  {
   "cell_type": "code",
   "execution_count": 5,
   "id": "0a5cf957",
   "metadata": {},
   "outputs": [],
   "source": [
    "import faiss\n",
    "import time"
   ]
  },
  {
   "cell_type": "markdown",
   "id": "e704aed1",
   "metadata": {},
   "source": [
    "# Create an index using FAISS"
   ]
  },
  {
   "cell_type": "code",
   "execution_count": 6,
   "id": "c07aeed5",
   "metadata": {},
   "outputs": [],
   "source": [
    "index = faiss.IndexFlatL2(hotel_reviews_embds.shape[1])\n",
    "index.add(hotel_reviews_embds)\n",
    "faiss.write_index(index, 'index_hotel_reviews')\n",
    "index = faiss.read_index('index_hotel_reviews')"
   ]
  },
  {
   "cell_type": "code",
   "execution_count": 7,
   "id": "fe379d3b",
   "metadata": {},
   "outputs": [
    {
     "name": "stdout",
     "output_type": "stream",
     "text": [
      "totaltime: 0.027927875518798828\n",
      "['The food at this hotel is delicious but a bit overpriced.', 'This hotel has a great location but the rooms are too small.']\n"
     ]
    }
   ],
   "source": [
    "def search(query):\n",
    "    t=time.time()\n",
    "    query_vector = model.encode([query])\n",
    "    k = 2\n",
    "    top_k = index.search(query_vector, k)\n",
    "    print('totaltime: {}'.format(time.time()-t))\n",
    "    return [hotel_reviews[_id] for _id in top_k[1].tolist()[0]]\n",
    "\n",
    "results=search(\"food\")\n",
    "print(results)"
   ]
  },
  {
   "cell_type": "code",
   "execution_count": null,
   "id": "e03945ca",
   "metadata": {},
   "outputs": [],
   "source": []
  }
 ],
 "metadata": {
  "kernelspec": {
   "display_name": "Python 3 (ipykernel)",
   "language": "python",
   "name": "python3"
  },
  "language_info": {
   "codemirror_mode": {
    "name": "ipython",
    "version": 3
   },
   "file_extension": ".py",
   "mimetype": "text/x-python",
   "name": "python",
   "nbconvert_exporter": "python",
   "pygments_lexer": "ipython3",
   "version": "3.9.12"
  }
 },
 "nbformat": 4,
 "nbformat_minor": 5
}

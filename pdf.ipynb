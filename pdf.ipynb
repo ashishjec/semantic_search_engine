{
  "nbformat": 4,
  "nbformat_minor": 0,
  "metadata": {
    "colab": {
      "provenance": []
    },
    "kernelspec": {
      "name": "python3",
      "display_name": "Python 3"
    },
    "language_info": {
      "name": "python"
    }
  },
  "cells": [
    {
      "cell_type": "code",
      "source": [
        "!pip install PyPDF2"
      ],
      "metadata": {
        "colab": {
          "base_uri": "https://localhost:8080/"
        },
        "id": "vX6RRJPE_UC-",
        "outputId": "4234d9aa-5e62-4f28-bb68-4aa001a4e654"
      },
      "execution_count": 24,
      "outputs": [
        {
          "output_type": "stream",
          "name": "stdout",
          "text": [
            "Looking in indexes: https://pypi.org/simple, https://us-python.pkg.dev/colab-wheels/public/simple/\n",
            "Requirement already satisfied: PyPDF2 in /usr/local/lib/python3.10/dist-packages (3.0.1)\n"
          ]
        }
      ]
    },
    {
      "cell_type": "code",
      "execution_count": 3,
      "metadata": {
        "id": "Wl5vfg0x8uBI"
      },
      "outputs": [],
      "source": [
        "import spacy\n",
        "import networkx as nx\n",
        "from networkx.algorithms import bipartite\n",
        "from collections import Counter\n",
        "import PyPDF2\n",
        "import matplotlib.pyplot as plt"
      ]
    },
    {
      "cell_type": "code",
      "source": [
        "# Open the PDF file\n",
        "pdf_file = open(r\"/content/Dibi.pdf\", 'rb')\n",
        "pdf_reader = PyPDF2.PdfReader(pdf_file)"
      ],
      "metadata": {
        "id": "XPade6Aa9BCS"
      },
      "execution_count": 25,
      "outputs": []
    },
    {
      "cell_type": "code",
      "source": [
        "# Extract text from the PDF file\n",
        "text = ''\n",
        "for page_num in range(len(pdf_reader.pages)):\n",
        "    page_obj = pdf_reader.pages[page_num]\n",
        "    text += page_obj.extract_text()"
      ],
      "metadata": {
        "id": "iM6myJNk9Ln6"
      },
      "execution_count": 15,
      "outputs": []
    },
    {
      "cell_type": "code",
      "source": [
        "# Load the English language model in spaCy\n",
        "nlp = spacy.load('en_core_web_sm')"
      ],
      "metadata": {
        "id": "iLmVr31I9Nj5"
      },
      "execution_count": 16,
      "outputs": []
    },
    {
      "cell_type": "code",
      "source": [
        "# Parse the text using spaCy\n",
        "doc = nlp(text)"
      ],
      "metadata": {
        "id": "k08cKK289SBT"
      },
      "execution_count": 17,
      "outputs": []
    },
    {
      "cell_type": "code",
      "source": [
        "# Extract named entities and create nodes in the knowledge graph\n",
        "G = nx.Graph()\n",
        "for entity in doc.ents:\n",
        "    G.add_node(entity.text, type=entity.label_)"
      ],
      "metadata": {
        "id": "QPvD_b3L9UiD"
      },
      "execution_count": 18,
      "outputs": []
    },
    {
      "cell_type": "code",
      "source": [
        "# Extract noun phrases and create edges between nodes in the knowledge graph\n",
        "noun_chunks = list(doc.noun_chunks)\n",
        "for chunk in noun_chunks:\n",
        "    if len(chunk) > 1:\n",
        "        nodes = [n for n in G.nodes() if chunk.text in n]\n",
        "        for i in range(len(nodes)):\n",
        "            for j in range(i+1, len(nodes)):\n",
        "                G.add_edge(nodes[i], nodes[j], weight=1)"
      ],
      "metadata": {
        "id": "694G8yAG9W4X"
      },
      "execution_count": 19,
      "outputs": []
    },
    {
      "cell_type": "code",
      "source": [
        "# Identify and remove isolated nodes in the knowledge graph\n",
        "isolated_nodes = list(nx.isolates(G))\n",
        "G.remove_nodes_from(isolated_nodes)"
      ],
      "metadata": {
        "id": "LflbcfFb9ZGM"
      },
      "execution_count": 20,
      "outputs": []
    },
    {
      "cell_type": "code",
      "source": [
        "# Use bipartite projection to convert the knowledge graph into a simpler graph\n",
        "B = bipartite.projected_graph(G, set(nx.get_node_attributes(G, 'type').keys()))"
      ],
      "metadata": {
        "id": "Sap1JOIw9bDd"
      },
      "execution_count": 21,
      "outputs": []
    },
    {
      "cell_type": "code",
      "source": [
        "# Calculate node and edge weights based on node degree and edge weight, respectively\n",
        "node_weights = Counter(dict(B.degree(weight='weight')))\n",
        "edge_weights = Counter({(u, v): w for u, v, w in B.edges(data='weight') if w is not None})"
      ],
      "metadata": {
        "id": "kCTZQYzO9dMI"
      },
      "execution_count": 22,
      "outputs": []
    },
    {
      "cell_type": "code",
      "source": [
        "# Visualize the knowledge graph\n",
        "pos = nx.spring_layout(B)\n",
        "plt.figure(figsize=(10, 10))\n",
        "nx.draw_networkx_nodes(B, pos, node_size=[v*100 for v in node_weights.values()], node_color='yellow')\n",
        "nx.draw_networkx_labels(B, pos, font_size=8, font_weight='bold')\n",
        "nx.draw_networkx_edges(B, pos, width=[w*3 for w in edge_weights.values()], edge_color='red')\n",
        "plt.axis('off')\n",
        "plt.show()"
      ],
      "metadata": {
        "colab": {
          "base_uri": "https://localhost:8080/",
          "height": 807
        },
        "id": "AwMAh9169euj",
        "outputId": "ff89d604-6304-4749-be03-8e479df71393"
      },
      "execution_count": 23,
      "outputs": [
        {
          "output_type": "display_data",
          "data": {
            "text/plain": [
              "<Figure size 1000x1000 with 1 Axes>"
            ],
            "image/png": "[encoded data removed]"
          },
          "metadata": {}
        }
      ]
    },
    {
      "cell_type": "code",
      "source": [],
      "metadata": {
        "id": "8dx1jK299fcs"
      },
      "execution_count": null,
      "outputs": []
    }
  ]
}
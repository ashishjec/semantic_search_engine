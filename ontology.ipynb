{
  "nbformat": 4,
  "nbformat_minor": 0,
  "metadata": {
    "colab": {
      "provenance": []
    },
    "kernelspec": {
      "name": "python3",
      "display_name": "Python 3"
    },
    "language_info": {
      "name": "python"
    }
  },
  "cells": [
    {
      "cell_type": "code",
      "execution_count": 3,
      "metadata": {
        "colab": {
          "base_uri": "https://localhost:8080/"
        },
        "id": "ta0cHW4tFc14",
        "outputId": "e2301e68-96cf-4cac-acf5-9524c3125b74"
      },
      "outputs": [
        {
          "output_type": "stream",
          "name": "stdout",
          "text": [
            "Coffee 1 is:  [onto.Coffee]\n",
            "Coffee 2 is:  [onto.Coffee]\n"
          ]
        },
        {
          "output_type": "stream",
          "name": "stderr",
          "text": [
            "* Owlready2 * Running HermiT...\n",
            "    java -Xmx2000M -cp /usr/local/lib/python3.10/dist-packages/owlready2/hermit:/usr/local/lib/python3.10/dist-packages/owlready2/hermit/HermiT.jar org.semanticweb.HermiT.cli.CommandLine -c -O -D -I file:////tmp/tmp7ip5_xul\n",
            "* Owlready2 * HermiT took 1.2991909980773926 seconds\n",
            "* Owlready * Reparenting onto.coffee2: {onto.Coffee} => {onto.Pike}\n",
            "* Owlready * Reparenting onto.coffee1: {onto.Coffee} => {onto.Veranda}\n",
            "* Owlready * (NB: only changes on entities loaded in Python are shown, other changes are done but not listed)\n"
          ]
        },
        {
          "output_type": "execute_result",
          "data": {
            "text/plain": [
              "[onto.Coffee,\n",
              " onto.has_roast.only(OneOf([onto.Medium_Roast])),\n",
              " onto.from_region.only(onto.Region)]"
            ]
          },
          "metadata": {},
          "execution_count": 3
        }
      ],
      "source": [
        "from owlready2 import *\n",
        "\n",
        "#we define our ontology; all ontologies share the same world by default\n",
        "onto = get_ontology(\"http://test.org/onto.owl\")\n",
        "with onto:\n",
        "    #our entities are classes\n",
        "    class Coffee(Thing): pass\n",
        "    \n",
        "    #related information can also be captured as classes\n",
        "    class Roast(Thing): pass\n",
        "    \n",
        "    #subclassing Roast to break down additional details\n",
        "    class Dark_Roast(Roast): pass\n",
        "    class Blonde_Roast(Roast): pass\n",
        "    class Medium_Roast(Roast): pass\n",
        "    \n",
        "    \n",
        "    class Region(Thing): pass\n",
        "    \n",
        "    class Latin_America(Region): pass\n",
        "    class Asia_Pacific(Region): pass\n",
        "    class Multi(Region): pass\n",
        "    \n",
        "    \n",
        "    #defining the relationship between coffee and roast\n",
        "    class has_roast(ObjectProperty, FunctionalProperty):\n",
        "        domain = [Coffee]\n",
        "        region = [Roast]\n",
        "    \n",
        "    \n",
        "    #FunctionalProperties mean it can only be related to one; these coffees can only be grown in one region\n",
        "    class from_region(Coffee >> Region, FunctionalProperty):\n",
        "        pass\n",
        "    \n",
        "    \n",
        "    #defining the characteristics for a specific coffee type or line\n",
        "    class Veranda(Coffee):\n",
        "        equivalent_to = [Coffee & has_roast.value(Blonde_Roast) & from_region.some(Region) & \n",
        "                        from_region.only(Latin_America)]\n",
        "\n",
        "    #.some means it must be related to a Region\n",
        "    #.only means if it's related to a region it must be the one defined\n",
        "    class Pike(Coffee):\n",
        "        equivalent_to = [Coffee & has_roast.value(Medium_Roast) & from_region.some(Region) &\n",
        "                        from_region.only(Latin_America)]\n",
        "\n",
        "        \n",
        "\n",
        "#telling the ontology these are all different things\n",
        "AllDifferent([Dark_Roast, Blonde_Roast, Medium_Roast])\n",
        "AllDifferent([Latin_America, Asia_Pacific, Multi])\n",
        "\n",
        "#defining some unknown coffees and their characteristics\n",
        "coffee1 = Coffee(has_roast = Blonde_Roast, from_region=Latin_America())\n",
        "coffee2 = Coffee(has_roast = Medium_Roast, from_region=Latin_America())\n",
        "\n",
        "print(\"Coffee 1 is: \", coffee1.is_a)\n",
        "print(\"Coffee 2 is: \", coffee2.is_a)\n",
        "\n",
        "#closing the world, by default we have an open world, anything not restricted is possible\n",
        "close_world(Coffee)\n",
        "\n",
        "#analyze the world, classify the coffees\n",
        "sync_reasoner()\n",
        "coffee1.is_a\n",
        "coffee2.is_a\n",
        "#information about the parent class\n",
        "Coffee.is_a\n",
        "Pike.is_a"
      ]
    },
    {
      "cell_type": "code",
      "source": [
        "!pip install owlready2"
      ],
      "metadata": {
        "colab": {
          "base_uri": "https://localhost:8080/"
        },
        "id": "HPnoyBsYFylW",
        "outputId": "04476956-83bc-4a89-a7ee-4f740be7eab0"
      },
      "execution_count": 2,
      "outputs": [
        {
          "output_type": "stream",
          "name": "stdout",
          "text": [
            "Looking in indexes: https://pypi.org/simple, https://us-python.pkg.dev/colab-wheels/public/simple/\n",
            "Collecting owlready2\n",
            "  Downloading Owlready2-0.43.tar.gz (27.4 MB)\n",
            "\u001b[2K     \u001b[90m━━━━━━━━━━━━━━━━━━━━━━━━━━━━━━━━━━━━━━━━\u001b[0m \u001b[32m27.4/27.4 MB\u001b[0m \u001b[31m42.6 MB/s\u001b[0m eta \u001b[36m0:00:00\u001b[0m\n",
            "\u001b[?25h  Installing build dependencies ... \u001b[?25l\u001b[?25hdone\n",
            "  Getting requirements to build wheel ... \u001b[?25l\u001b[?25hdone\n",
            "  Preparing metadata (pyproject.toml) ... \u001b[?25l\u001b[?25hdone\n",
            "Building wheels for collected packages: owlready2\n",
            "  Building wheel for owlready2 (pyproject.toml) ... \u001b[?25l\u001b[?25hdone\n",
            "  Created wheel for owlready2: filename=Owlready2-0.43-cp310-cp310-linux_x86_64.whl size=24154528 sha256=68aeec503b5e6cab1ff187dcf80558a9ec30e7b5f043d32469635c3255a000d6\n",
            "  Stored in directory: /root/.cache/pip/wheels/bc/9b/82/c07844dfbaa52dbf3352b18b0a27c348ee854df8b752990c53\n",
            "Successfully built owlready2\n",
            "Installing collected packages: owlready2\n",
            "Successfully installed owlready2-0.43\n"
          ]
        }
      ]
    },
    {
      "cell_type": "code",
      "source": [],
      "metadata": {
        "id": "nrnH-sWjF1gT"
      },
      "execution_count": null,
      "outputs": []
    }
  ]
}